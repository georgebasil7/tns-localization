{
 "cells": [
  {
   "cell_type": "code",
   "execution_count": 1,
   "metadata": {},
   "outputs": [],
   "source": [
    "from googletrans import Translator"
   ]
  },
  {
   "cell_type": "code",
   "execution_count": 2,
   "metadata": {},
   "outputs": [],
   "source": [
    "translator = Translator()"
   ]
  },
  {
   "cell_type": "code",
   "execution_count": 3,
   "metadata": {},
   "outputs": [],
   "source": [
    "import json"
   ]
  },
  {
   "cell_type": "code",
   "execution_count": null,
   "metadata": {},
   "outputs": [],
   "source": [
    "# Parsing and translating tool_categories table\n",
    "\n",
    "with open('tool_categories_en.json', 'r', encoding=\"utf-8\") as f:\n",
    "    parsed_text = json.load(f)\n",
    "    \n",
    "mylist=[]\n",
    "for i in range(len(parsed_text)):\n",
    "    mylist.append({\"id\":parsed_text[i][\"id\"],\n",
    "                  \"code\":translator.translate(parsed_text[i][\"code\"], dest=\"es\").text,\n",
    "                   \"type\":parsed_text[i][\"type\"],\n",
    "                   \"banner\":parsed_text[i][\"banner\"],\n",
    "                   \"status\":parsed_text[i][\"status\"],\n",
    "                   \"sort_index\":parsed_text[i][\"sort_index\"],\n",
    "                  })\n",
    "\n"
   ]
  },
  {
   "cell_type": "code",
   "execution_count": 94,
   "metadata": {},
   "outputs": [],
   "source": [
    "ip = [\"config_content\", \"explore_conditions\", \"roadmap_task\", \"tool_categories\", \"tool_details\"]\n"
   ]
  },
  {
   "cell_type": "code",
   "execution_count": 96,
   "metadata": {},
   "outputs": [],
   "source": [
    "with open('json_files/' + ip[0] + '.json', 'r', encoding=\"utf-8\") as f:\n",
    "    parsed_text = json.load(f)"
   ]
  },
  {
   "cell_type": "code",
   "execution_count": 33,
   "metadata": {},
   "outputs": [],
   "source": [
    "def extract_data(json_items, translate_keys):\n",
    "    new_json = {}\n",
    "    if type(json_items) == str:\n",
    "        print(json_items)\n",
    "    else:\n",
    "        for k, v in json_items.items():\n",
    "    #         if type(v) == str:\n",
    "    #             try:\n",
    "    #                 new_json[k].append(v)\n",
    "    #             except:\n",
    "    #                 new_json[k]=v\n",
    "\n",
    "            if type(v) == dict:\n",
    "                extract_data(v)\n",
    "            elif type(v) == list:\n",
    "                for item in v:\n",
    "                    extract_data(item)\n",
    "            else:\n",
    "                print(str(k) + \"\\t\" + str(v) + \"\\n\")\n",
    "    return new_json"
   ]
  },
  {
   "cell_type": "code",
   "execution_count": 80,
   "metadata": {},
   "outputs": [],
   "source": [
    "def translate_json(json_content, elem_list, item_key=\"\"):\n",
    "    '''\n",
    "    Translates contents using Google services, if the item is identified in elem_list as a translatable item\n",
    "    \n",
    "        PARAMS\n",
    "            json_content: a dict representation of the json content\n",
    "            elem_list:    a list of keys found in the json_content that need to be translated. If the key is\n",
    "                            not found in elem_list, the text is not translated \n",
    "            item_key:     key of an element currently being processed. This is helpful for processing non-dict data.\n",
    "    '''\n",
    "    \n",
    "    # Initiate a dict object to store the processed text\n",
    "    new_json_content = {}\n",
    "    \n",
    "    # Confirm the datatype of json_content is Dict. If not, alert user\n",
    "    \n",
    "    if type(json_content) == dict:\n",
    "        # Iterate through the json and unpack key (k) and value (v) of each element       \n",
    "        for k, v in json_content.items():\n",
    "            # at this point we need to process the value based on it's data type\n",
    "            if type(v) == dict:\n",
    "                # We need to traverse through the inner dict recursively\n",
    "                new_json_content[k]=translate_json(v, elem_list)\n",
    "            elif type(v) == list:\n",
    "                new_json_content[k] = translate_json(v, elem_list)\n",
    "            elif type(v) == str:\n",
    "                if k in elem_list:\n",
    "                    new_json_content[k] = v.upper()\n",
    "                else:\n",
    "                    new_json_content[k] = v\n",
    "            elif type(v) == int:\n",
    "                new_json_content[k] = v\n",
    "            else:\n",
    "                print(type(v), end=\"\\t\")\n",
    "                print(v)\n",
    "        return new_json_content\n",
    "    elif type(json_content) == list:\n",
    "        new_list = []\n",
    "        for item in json_content:\n",
    "            if type(item) == str:\n",
    "                if (item_key in elem_list):\n",
    "                    new_list.append(item.upper())\n",
    "                else:\n",
    "                    new_list.append(item)\n",
    "            elif type(item) == dict:\n",
    "                new_list.append(translate_json(item, elem_list))\n",
    "            elif type(item) == list:\n",
    "                new_list.append(translate_json(item, elem_list))\n",
    "            else:\n",
    "                new_list.append(v)\n",
    "        return new_list                          \n",
    "    else:\n",
    "        print(type(json_content), end=\"\\t\")\n",
    "        print(json_content)\n",
    "        raise TypeError(\"Sorry! incorrect datatype\")\n",
    "    \n",
    "    return(new_json_content)"
   ]
  },
  {
   "cell_type": "code",
   "execution_count": 97,
   "metadata": {},
   "outputs": [
    {
     "data": {
      "text/plain": [
       "'{\\n  \"navbar\": {\\n    \"home\": \"HOME\",\\n    \"steps\": \"5 STEPS OF\",\\n    \"explore\": \"Explore\",\\n    \"decide\": \"Decide\",\\n    \"basket\": \"Basket of Tools\",\\n    \"roadmap\": \"Roadmap\",\\n    \"stayconnect\": \"Stay Connected\",\\n    \"catalog\": \"CATALOG OF TOOLS\"\\n  },\\n  \"footer\": {\\n    \"verse\": \"TASTE AND SEE THAT THE LORD IS GOOD. BLESSED IS THE ONE WHO TAKES REFUGE IN HIM!\",\\n    \"ref\": \"Psalm 34:8\",\\n    \"details\": \"Getting Acquainted\",\\n    \"about\": \"About Us\",\\n    \"faq\": \"Frequently Asked Questions\",\\n    \"contact\": \"Contact\",\\n    \"copyright\": \"Copyright \\\\u00a9 2019 SIL International\",\\n    \"privacy\": \"Privacy policy|Terms of use\"\\n  },\\n  \"user\": {\\n    \"remember\": \"Remember me\",\\n    \"forgot\": \"Forgot Password\",\\n    \"alertVerify\": \"PLEASE CHECK YOUR EMAIL AND VERIFY YOUR EMAIL ADDRESS TO ACTIVATE YOUR REGISTRATION.\",\\n    \"matchError\": \"Passwords do not match\",\\n    \"accept\": \"I agree to accept to the terms of privacy policy\",\\n    \"alredyRegistered\": \"Already Registered?\",\\n    \"note\": \"Note:\",\\n    \"noteMsg\": \"PLEASE USE YOUR ORGANIZATION EMAIL ADDRESS TO REGISTER, IN ORDER TO ENSURE IMMEDIATE PROCESSING.  IN CASE, IF YOU DO NOT HAVE AN EMAIL ADDRESS FROM AN AUTHORIZED SCRIPTURE ENGAGEMENT ORGANIZATION, THEN YOU WILL NEED TO GO THROUGH ADDITIONAL STEPS FOR REGISTRATION.\"\\n  },\\n  \"home\": {\\n    \"title\": \"TASTE AND SEE, THAT THE LORD IS GOOD... HERE\\'S HOW IN 5 STEPS\",\\n    \"subTitle\": \"MULTIPLE LANGUAGES? MANY DIFFERENT NEEDS? NO PROBLEM\",\\n    \"catalogTitle\": \"Check out these categories and what tools are available.\"\\n  },\\n  \"steps\": [\\n    {\\n      \"id\": 1,\\n      \"code\": \"explore\",\\n      \"title\": \"EXPLORE\",\\n      \"video_url\": \"/static/video/banner/explore.mp4\",\\n      \"description\": \"EXPERIENCE AND FEEDBACK FROM COMMUNITIES FROM AROUND THE WORLD HAS TAUGHT US THAT THERE ARE 8 MAJOR CONDITIONS THAT DETERMINE IF PEOPLE WILL USE THEIR BIBLE AND LIVES WILL BE TRANSFORMED. IN THE EXPLORE SECTION, WE HELP YOU UNDERSTAND EACH OF THESE CONDITIONS AND TO ASSESS THEM IN YOUR COMMUNITY.\"\\n    },\\n    {\\n      \"id\": 2,\\n      \"code\": \"decide\",\\n      \"title\": \"DECIDE\",\\n      \"video_url\": \"/static/video/banner/decide.mp4\",\\n      \"description\": \"ON THE DECIDE SECTION YOU WILL CONSIDER POSSIBLE TOOLS AND STRATEGIES THAT WILL HELP STRENGTHEN THE WEAK CONDITIONS IN YOUR SITUATION. WHEN WE STRENGTHEN THOSE CONDITIONS, IT INCREASES THE IMPACT GOD\\\\u2019S WORD WILL HAVE.\"\\n    },\\n    {\\n      \"id\": 3,\\n      \"code\": \"basket\",\\n      \"title\": \"BASKET\",\\n      \"video_url\": \"/static/video/banner/basket.mp4\",\\n      \"description\": \"ON THE BASKET PAGE YOU WILL SEE ALL OF THE TOOLS YOU HAVE CHOSEN AND ARE CURRENTLY IN YOUR COMMUNITY BASKET. WHETHER YOU HAVE SELECTED JUST A FEW TOOLS OR MANY, HERE YOU WILL BEGIN TO MAKE DECISIONS ABOUT HOW TO PROCEED WITH YOUR TOOLS. YOU CAN ALSO SHARE YOUR SELECTIONS AND SEE WHAT YOUR PEERS ARE SAYING.\"\\n    },\\n    {\\n      \"id\": 4,\\n      \"code\": \"roadmap\",\\n      \"title\": \"ROADMAP\",\\n      \"video_url\": \"/static/video/banner/roadmap.mp4\",\\n      \"description\": \"A PERSON COULD SET OUT ON A JOURNEY WITHOUT A PLAN, BUT A LITTLE PLANNING CAN GO A LONG WAY TO KEEP US FROM STARTING OUT IN THE WRONG DIRECTION, MAKING A WRONG TURN, OR RUNNING OUT OF RESOURCES SO WE NEVER GET TO OUR DESTINATION. THAT IS WHAT THE ROADMAP PAGE IS ALL ABOUT. IT WILL HELP YOU PLAN SO THAT YOU CAN MAKE IT TO YOUR DESTINATION, AND THAT YOU CAN MAKE IT WITH AS FEW SETBACKS AND FRUSTRATIONS AS POSSIBLE.\"\\n    },\\n    {\\n      \"id\": 5,\\n      \"code\": \"stayconnected\",\\n      \"title\": \"STAY CONNECTED\",\\n      \"video_url\": \"/static/video/banner/stay-connect.mp4\",\\n      \"description\": \"THERE ARE A LOT OF WAYS YOU CAN STAY CONNECTED WITH YOUR PEERS AROUND THE WORLD. UPLOAD PHOTOS AND VIDEOS SHOWING THE TOOLS YOUR COMMUNITY USED, WRITE SOME HELPFUL REVIEWS, TELL SOME STORIES, OR CHAT ABOUT THINGS YOUR COMMUNITY LEARNED OR ASK QUESTIONS YOU MAY HAVE.\"\\n    }\\n  ],\\n  \"homecategories\": [\\n    {\\n      \"id\": 11,\\n      \"image\": \"01mobile.jpg\",\\n      \"title\": \"MOBILE\"\\n    },\\n    {\\n      \"id\": 7,\\n      \"image\": \"02children.jpg\",\\n      \"title\": \"CHILDREN\"\\n    },\\n    {\\n      \"id\": 5,\\n      \"image\": \"03orality.jpg\",\\n      \"title\": \"ORALITY\"\\n    },\\n    {\\n      \"id\": 3,\\n      \"image\": \"05video.jpg\",\\n      \"title\": \"VIDEO\"\\n    },\\n    {\\n      \"id\": 2,\\n      \"image\": \"04audio.jpg\",\\n      \"title\": \"AUDIO\"\\n    },\\n    {\\n      \"id\": 6,\\n      \"image\": \"06socialmedia.jpg\",\\n      \"title\": \"SOCIAL MEDIA\"\\n    },\\n    {\\n      \"id\": 11,\\n      \"image\": \"07gadget.jpg\",\\n      \"title\": \"GADGETS\"\\n    },\\n    {\\n      \"id\": 1,\\n      \"image\": \"08sotrying.jpg\",\\n      \"title\": \"STORIES\"\\n    }\\n  ],\\n  \"general\": {\\n    \"language\": \"LANGUAGE\",\\n    \"steps\": \"STEPS\",\\n    \"watchVideo\": \"Click here to watch How to use this page?\",\\n    \"chooseLanguage\": \"Choose Language\",\\n    \"progress\": \"Track Your Progress\",\\n    \"selection\": \"Finished with Your Selection?\",\\n    \"move\": \"Move to\",\\n    \"itemsCompleted\": \"Items Completed\",\\n    \"learnMore\": \"Learn more about the 5 Steps.\"\\n  },\\n  \"button\": {\\n    \"next\": \"Next Step\",\\n    \"view\": \"View\",\\n    \"browseAll\": \"BROWSE ALL\",\\n    \"watch\": \"Watch how to use \",\\n    \"watchMobile\": \"Video\",\\n    \"learnmore\": \"LEARN MORE\",\\n    \"goto\": \"Go to\",\\n    \"checkit\": \"Check it Out\",\\n    \"browseNow\": \"Browse Now\",\\n    \"signIn\": \"Sign in\",\\n    \"register\": \"Register Now\",\\n    \"login\": \"Login Now\",\\n    \"reset\": \"Reset Password\"\\n  },\\n  \"explore\": {\\n    \"intro\": \"Review each card below and choose how your community rates each Condition: Strong, Medium or Weak.There is further explanation below each card or click on the video. All your answers will be ready for your review and action in Step 2.\",\\n    \"howStrong\": \"How strong is this condition currently?\"\\n  },\\n  \"decide\": {\\n    \"title\": \"YOUR COMMUNITY SNAPSHOT\",\\n    \"intro\": \"Click on the \\'<i className=\\\\\"fas fa-meh\\\\\"></i>\\' and the \\'<i className=\\\\\"fas fa-frown\\\\\"></i>\\' boxes below and scroll down to see + select tools to help increase Impact in your Community.\",\\n    \"congratulations\": \"CONGRATULATIONS!\",\\n    \"popupText\": \"THESE CONDITIONS ARE ALREADY STRONG IN YOUR COMMUNITY,NO NEED TO WORK ON THEM RIGHT NOW,INSTEAD FOCUS ON CONDITIONS FROM THE OTHER TWO BOXES,MEDIUM AND WEAK.\"\\n  },\\n  \"basket\": {\\n    \"yourBasket\": \"Your Basket\",\\n    \"items\": \"items\"\\n  },\\n  \"roadmap\": {\\n    \"intro\": \"Select a tool to Create / Edit plan,your work will be saved automatically so your community can work on multiple Roadmap at the same time\",\\n    \"alert\": \"Please register/ login to access Roadmap of events\"\\n  },\\n  \"catalog\": {\\n    \"title\": \"CATALOG OF TOOLS\",\\n    \"featuredTools\": \"Featured Tools\",\\n    \"featuredCategory\": \"Featured Category\",\\n    \"mobile\": \"Mobile\",\\n    \"mobileText\": \"Use your phones to connect and spread God\\'s Word. New Innovation!\",\\n    \"oralitytext\": \"Impact Oral Learners in Your Community\"\\n  },\\n  \"about\": {\\n    \"para1\": \"This website has been a team effort, created for our shared hope to see God\\\\u2019s Word impact communities around the world.\",\\n    \"para2\": \"We are grateful for the generous contributions of staff, funding & prayer.\",\\n    \"contactUs\": \"CONTACT US\"\\n  },\\n  \"privacy\": {\\n    \"para1Title\": \"Privacy policy|Terms of use\",\\n    \"para1Des\": \"This site is a service operated by SIL International to serve language communities worldwide. Our postal contact address is SIL Language Technology, 7500 West Camp Wisdom Road, Dallas, TX 75236, USA. This Privacy and Data Retention Policy applies only to what is provided through this service at tastesee.org, and not to other services of SIL International. SIL International is aware of the trust you place in us and our responsibility to protect your privacy. If you supply us with any personal details, including your name and email address, we will securely protect that information and not supply it to third-parties. We reserve the right to allow tastesee.org administrators to view your personal information and to contact you at the email address you provide in order to assist you. Activity on this site may be logged to improve the service and its security \\\\u2013 to identify general usage patterns in order to improve the service, to help deal with inquiries and user requests, and to counter spam, unsolicited and inappropriate use of the service. Data that is identified with you or your IP address will be only used internally and will not be disclosed to others. Statistics may be generated based on this data and shared with others, but will never contain personally identifying information. We use Google Analytics, a web analysis service provided by Google Inc. (\\\\u201cGoogle\\\\u201d). Google uses the data collected to track and examine the use of www.tastesee.org, to prepare reports on its activities and share them with other Google services. We use this Google Analytics data to improve our online web properties, products, and services. We do not share, sell, rent, or lease this information to anyone outside of SIL. SIL International does not send unsolicited or \\'spam\\' e-mail and does not sell, rent, or trade its e-mail lists to third parties.\",\\n    \"para2Title\": \"Terms of Use\",\\n    \"para2Des\": \"The resources found on the SIL International website are intended for non-commercial scholarly research and educational use. You may make copies of these publications for research or educational purposes in accordance with the SIL Fair Use Guidelines free of charge and without further permission. Republication or commercial use of anything on the SIL International website (unless stated otherwise) is expressly prohibited without the written consent of SIL International. You may make links to pages on this website (with proper attribution), but you may not mirror (i.e., place copies of) these documents, in part or whole, on your site without permission of SIL International\"\\n  },\\n  \"faq\": {\\n    \"title\": \"FREQUENTLY ASKED QUESTIONS\",\\n    \"qa\": [\\n      {\\n        \"que\": \"WHAT IS TASTE&SEE?\",\\n        \"ans\": \"TASTE&SEE IS A WEB-BASED SCRIPTURE ENGAGEMENT TOOL THAT HELPS CHURCHES AND THOSE WHO SERVE THEM GET A CLEARER PICTURE OF THEIR OWN SETTING AND OF WHAT BIBLE PRODUCTS WOULD REALLY HELP THEIR COMMUNITY.\"\\n      },\\n      {\\n        \"que\": \"HOW DOES TASTE&SEE HELP COMMUNITIES?\",\\n        \"ans\": \"TASTE&SEE USES A DIAGNOSTIC TOOL\\\\u2014BASED ON WAYNE DYE\\\\u2019S EIGHT CONDITIONS\\\\u2014TO HELP ASSESS THE SITUATION OF THE COMMUNITY. AND IT PROVIDES A CATALOG OF MANY BIBLE TOOLS AND ACTIVITIES THAT CHURCHES MIGHT WANT TO USE IN THE LANGUAGES THAT WORK BEST FOR THEM. THEY CAN DECIDE TO TRANSLATE THOSE PRODUCTS AND IN OTHERS WAYS MAKE THEM FIT THEIR SETTING.\"\\n      },\\n      {\\n        \"que\": \"CAN I NAVIGATE THROUGH THE WEBSITE WITHOUT REGISTERING AND SIGNING IN?\",\\n        \"ans\": \"YES, YOU CAN. YOU ARE FREE TO NAVIGATE THROUGH STEP 3\\\\u2014SO UP TO ADDING TOOLS AND REVIEWING YOUR WHAT YOU HAVE PUT IN YOUR BASKET.\"\\n      },\\n      {\\n        \"que\": \"WILL MY BASKET BE SAVED, IF I DO NOT HAVE A REGISTERED USER ID?\",\\n        \"ans\": \"YOUR BASKET WILL BE ACTIVE FOR THAT PARTICULAR SESSION THAT YOU ARE ONLINE. ONCE YOU CLOSE THE BROWSER YOU WILL BE ABLE TO RETRIEVE YOUR BASKET TILL YOUR BROWSER CACHE IS NOT CLEARED.\"\\n      },\\n      {\\n        \"que\": \"CAN I CREATE MULTIPLE BASKETS FOR MULTIPLE LANGUAGES THAT I WOULD LIKE TO ASSESS?\",\\n        \"ans\": \"YES, YOU CAN, BUT YOU DO NEED TO REGISTER AND SIGN IN FOR THAT. ONCE YOU HAVE DONE THAT, CHOOSE A LANGUAGE FIRST AND THEN CREATE A BASKET. YOU CAN REPEAT THE STEPS 1-3 FOR THE NEXT LANGUAGE. TO SWITCH BETWEEN BASKETS, SIMPLY TYPE THE REQUIRED LANGUAGE BASKET THAT YOU\\\\u2019D LIKE TO VIEW, IN THE LANGUAGE TEXT BAR.\"\\n      },\\n      {\\n        \"que\": \"HOW CAN I USE THE STAY CONNECTED STEP?\",\\n        \"ans\": \"THAT FEATURE IS NOT WORKING YET BUT IS IN DEVELOPMENT WITH BE RELEASED IN THE NEAR FUTURE.\"\\n      },\\n      {\\n        \"que\": \"IF I NEED ANY HELP, HOW CAN I GET THAT?\",\\n        \"ans\": \"NEARLY ALL TOOLS PROVIDE CONTACT INFORMATION HELP WITH THAT SPECIFIC TOOL. BUT IF YOU NEED HELP RELATED TO TASTE&SEE, WANT SOME GENERAL ADVICE, OR HAVE A QUESTION, PLEASE, CONTACT US AT INFO@TASTESEE.ORG.\"\\n      },\\n      {\\n        \"que\": \"WHAT IF I NOTICE A MISTAKE OR A TECHNICAL PROBLEM? \",\\n        \"ans\": \"YES, PLEASE HELP US AND LET US KNOW WHAT\\\\u2019S AMISS. WRITE TO US AT INFO@TASTESEE.ORG\"\\n      },\\n      {\\n        \"que\": \"WHAT IF MY ORGANIZATION HAS A TOOL (PRODUCT, ACTIVITY OR DESCRIPTION) TO ADD TO THE CATALOG?\",\\n        \"ans\": \"GREAT! WE SEEK TO GIVE OUR COMMUNITY THE MOST HELPFUL TOOLS. SO, PLEASE, CONTACT US AT INFO@TASTESEE.ORG ABOUT YOUR TOOL.\"\\n      }\\n    ]\\n  },\\n  \"offline\": {\\n    \"title\": \"TASTE&SEE OFFLINE APP INSTALLATION STEPS\",\\n    \"method1title\": \"Method 1 (Mouse Friendly approach)\",\\n    \"method1List\": [\\n      \"Click on \\'Offline App\\', link. Save the app installation file to your PC\",\\n      \"Open Chrome browser and go to Menu > Settings > Extensions page\",\\n      \"Switch on \\'Developer mode\\' on the top right corner of the Extensions page. (Note, this can be switched off after installation).\",\\n      \"Click and drag the downloaded installation file (TasteSee.crx) to the extensions page\",\\n      \"A new popup will appear asking you to \\'Add Taste and See Offline?\\'\",\\n      \"Click on the Add App button to complete the installation. Taste and See offline app will now be installed as a Chrome App and the logo will appear in the Chrome apps list.\",\\n      \"The apps list can be accessed by clicking the \\'Apps\\' button at the top left of the browser page.\",\\n      \"Click on the Taste and See logo to open the offline App.\"\\n    ],\\n    \"method2title\": \"METHOD 2 (KEYBOARD FRIENDLY APPROACH)\",\\n    \"method2List\": [\\n      \"Click on \\'Offline App\\' link. Save the app installation file to your PC.\",\\n      \"Open Chrome browser and type chrome://extension on the address bar to open the extension page.\",\\n      \"Switch on \\'Developer mode\\' on the top right corner of the extensions page. (Note, this can be switched off after installation).\",\\n      \"Click and drag the downloaded installation file to the extensions page.\",\\n      \"A new popup will appear asking you to \\'Add Taste and See Offline?\\'\",\\n      \"Click on the Add App to complete the installation. The Taste and See will get installed as a Chrome App and the logo will appear in the apps list. The apps list can be accessed by clicking the \\'Apps\\' button at the top left of the browser page\",\\n      \"Click on the Taste and See logo to open the offline App.\"\\n    ],\\n    \"note\": \"Note: the computer needs to be online while the installation is in progress so that the App data synchronisation can take place.\",\\n    \"instructionTitle\": \"App Usage Instructions:\",\\n    \"instructionSubtitle\": \"To Open Taste and See offline app (after installation):\",\\n    \"instructionList\": [\\n      \"Open Chrome Browser.\",\\n      \"Open Apps page by clicking \\'Apps\\' on the top left corner of the page.\",\\n      \"Click on the Taste and See logo to launch the Offline App.\",\\n      \"Login page appears. Please log in using your Taste&See login and password.\",\\n      \"Start using the offline version of the app.\",\\n      \"Whenever the System is connected to the internet, click on the \\'Sync now\\' button to sync your data with the server.\",\\n      \"Note 1: Once offline app is installed, the user can use just that since all features of the online app is also available in the offline version as well.\",\\n      \"Note 2: There is an option to sync your data with the server so that is saved and and retained for your future. However, the user can choose never to sync with the server to keep their data on their own PC.\"\\n    ]\\n  }\\n}'"
      ]
     },
     "execution_count": 97,
     "metadata": {},
     "output_type": "execute_result"
    }
   ],
   "source": [
    "json.dumps(translate_json(parsed_text, [\"title\", \"que\", \"ans\", \"verse\", \"alertVerify\", \"description\", \"noteMsg\", \"popupText\",\"subTitle\", \"method2title\"]), indent=2)"
   ]
  },
  {
   "cell_type": "code",
   "execution_count": null,
   "metadata": {},
   "outputs": [],
   "source": []
  },
  {
   "cell_type": "code",
   "execution_count": null,
   "metadata": {},
   "outputs": [],
   "source": []
  }
 ],
 "metadata": {
  "kernelspec": {
   "display_name": "Python 3",
   "language": "python",
   "name": "python3"
  },
  "language_info": {
   "codemirror_mode": {
    "name": "ipython",
    "version": 3
   },
   "file_extension": ".py",
   "mimetype": "text/x-python",
   "name": "python",
   "nbconvert_exporter": "python",
   "pygments_lexer": "ipython3",
   "version": "3.6.8"
  }
 },
 "nbformat": 4,
 "nbformat_minor": 4
}

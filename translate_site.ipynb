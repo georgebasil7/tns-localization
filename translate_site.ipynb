{
 "cells": [
  {
   "cell_type": "code",
   "execution_count": 6,
   "metadata": {},
   "outputs": [],
   "source": [
    "from googletrans import Translator"
   ]
  },
  {
   "cell_type": "code",
   "execution_count": 7,
   "metadata": {},
   "outputs": [],
   "source": [
    "translator = Translator()"
   ]
  },
  {
   "cell_type": "code",
   "execution_count": 8,
   "metadata": {},
   "outputs": [],
   "source": [
    "import json"
   ]
  },
  {
   "cell_type": "code",
   "execution_count": 9,
   "metadata": {},
   "outputs": [],
   "source": [
    "ip = [\"config_content\", \"explore_conditions\", \"roadmap_task\", \"tool_categories\", \"tool_details\"]\n"
   ]
  },
  {
   "cell_type": "code",
   "execution_count": 13,
   "metadata": {},
   "outputs": [],
   "source": [
    "with open('json_files/' + ip[1] + '.json', 'r', encoding=\"utf-8\") as f:\n",
    "    parsed_text = json.load(f)"
   ]
  },
  {
   "cell_type": "code",
   "execution_count": 14,
   "metadata": {},
   "outputs": [],
   "source": [
    "def translate_json(json_content, elem_list, item_key=\"\"):\n",
    "    '''\n",
    "    Translates contents using Google services, if the item is identified in elem_list as a translatable item\n",
    "    \n",
    "        PARAMS\n",
    "            json_content: a dict representation of the json content\n",
    "            elem_list:    a list of keys found in the json_content that need to be translated. If the key is\n",
    "                            not found in elem_list, the text is not translated \n",
    "            item_key:     key of an element currently being processed. This is helpful for processing non-dict data.\n",
    "    '''\n",
    "    \n",
    "    # Initiate a dict object to store the processed text\n",
    "    new_json_content = {}\n",
    "    \n",
    "    # Confirm the datatype of json_content is Dict. If not, alert user\n",
    "    \n",
    "    if type(json_content) == dict:\n",
    "        # Iterate through the json and unpack key (k) and value (v) of each element       \n",
    "        for k, v in json_content.items():\n",
    "            # at this point we need to process the value based on it's data type\n",
    "            if type(v) == dict:\n",
    "                # We need to traverse through the inner dict recursively\n",
    "                new_json_content[k]=translate_json(v, elem_list)\n",
    "            elif type(v) == list:\n",
    "                new_json_content[k] = translate_json(v, elem_list)\n",
    "            elif type(v) == str:\n",
    "                if k in elem_list:\n",
    "                    new_json_content[k] = v.upper()\n",
    "                else:\n",
    "                    new_json_content[k] = v\n",
    "            elif type(v) == int:\n",
    "                new_json_content[k] = v\n",
    "            else:\n",
    "                print(type(v), end=\"\\t\")\n",
    "                print(v)\n",
    "        return new_json_content\n",
    "    elif type(json_content) == list:\n",
    "        new_list = []\n",
    "        for item in json_content:\n",
    "            if type(item) == str:\n",
    "                if (item_key in elem_list):\n",
    "                    new_list.append(item.upper())\n",
    "                else:\n",
    "                    new_list.append(item)\n",
    "            elif type(item) == dict:\n",
    "                new_list.append(translate_json(item, elem_list))\n",
    "            elif type(item) == list:\n",
    "                new_list.append(translate_json(item, elem_list))\n",
    "            else:\n",
    "                new_list.append(v)\n",
    "        return new_list                          \n",
    "    else:\n",
    "        print(type(json_content), end=\"\\t\")\n",
    "        print(json_content)\n",
    "        raise TypeError(\"Sorry! incorrect datatype\")\n",
    "    \n",
    "    return(new_json_content)"
   ]
  },
  {
   "cell_type": "code",
   "execution_count": 15,
   "metadata": {},
   "outputs": [
    {
     "data": {
      "text/plain": [
       "'[\\n  {\\n    \"id\": 1,\\n    \"title\": \"LANGUAGE: USING THE RIGHT ONES\",\\n    \"code\": \"right_language\",\\n    \"status\": 1,\\n    \"tagline\": \"The language, dialect and orthography are all considered appropriate for expressing Biblical truth.\",\\n    \"short_description\": \"The language, dialect and orthography are all considered appropriate for expressing Biblical truth.\",\\n    \"description\": \"<P>WHAT LANGUAGES ARE HELPING PEOPLE TO CONNECT WITH THE BIBLE. WHICH LANGUAGES USED IN THE COMMUNITY ARE MISSING AND IN WHAT FORM? ARE THE SPIRITUAL NEEDS REALLY BEING MET THROUGH THE COMBINATION OF LANGUAGES BEING USED IN THE CHURCH AND COMMUNITY?</P><P>SOME INDICATIONS THAT PEOPLE ARE CONNECTING WITH SCRIPTURE IN THE FORMS AND LANGUAGES THEY NEED ARE: </P><UL><LI>THE CHURCH IS INCLUDING THE LOCAL LANGUAGE AS A FITTING MEANS FOR MEETING PEOPLE\\'S DIFFERENT SPIRITUAL NEEDS.</LI><LI>CHURCH LEADERS ARE AWARE OF THE LANGUAGES SPOKEN BY THEIR CONGREGATIONS AND COMMUNITIES, AND BELIEVE THAT THERE IS AN APPROPRIATE PLACE FOR USING ALL THESE LANGUAGES\\\\u2014INCLUDING THE LOCAL LANGUAGES\\\\u2014TO KNOW GOD.</LI><LI>THE LANGUAGES BEING USED FOR EACH CHURCH ACTIVITY ARE UNDERSTOOD WELL BY THOSE BENEFITING FROM SUCH ACTIVITIES. THE LANGUAGES WE USE ENGAGE THE HEART NOT JUST THE MIND.</LI><LI>THE LANGUAGES THAT ARE WRITTEN HAVE WRITING SYSTEMS THAT ARE ACCEPTED. THE SPOKEN LANGUAGES OR DIALECTS ARE CONSIDERED FITTING FOR RELIGIOUS ACTIVITY. THE LANGUAGE USED FOR WRITING IS CONSIDERED APPROPRIATE FOR SACRED TEXTS AND FOR USE IS CHURCH.</LI></UL><H6>BASED ON OUR CONVERSATIONS, OUR COMMUNITY FEELS THIS CONDITION IS:</H6><P><STRONG>STRONG:</STRONG> ALL NEEDS ARE BEING MET THROUGH THE USE OF LOCAL LANGUAGES.</P><P><STRONG>MEDIUM:</STRONG> MOST NEEDS ARE BEING MET, BUT SOME PEOPLE DO NOT HAVE GOOD ACCESS TO SCRIPTURE BECAUSE OF THE LANGUAGE USED\\\\u2014THEY DON\\\\u2019T HAVE SCRIPTURE PRODUCTS IN THEIR OWN LANGUAGE.</P><P><STRONG>WEAK:</STRONG> NEEDS ARE NOT MET. MOST PEOPLE DO NOT HAVE ACCESS TO SCRIPTURE BECAUSE OF THE LANGUAGES OR DIALECTS THEY USE\\\\u2014SCRIPTURE IS ONLY AVAILABLE IN OTHER LANGUAGES THAT THEY DON\\\\u2019T UNDERSTAND WELL.</P>\",\\n    \"picture\": {\\n      \"url\": \"explore/condition1.jpg\"\\n    },\\n    \"video\": {\\n      \"url\": \"condition/right_language.mp4\"\\n    },\\n    \"sort_index\": 0,\\n    \"category_id\": 29\\n  },\\n  {\\n    \"id\": 2,\\n    \"title\": \"TRANSLATION: ACCEPTABLE STYLES\",\\n    \"code\": \"acceptable_translation\",\\n    \"status\": 1,\\n    \"tagline\": \"People accept the translation\\\\u2014they see it as God\\'s Word.\",\\n    \"short_description\": \"People accept the translation\\\\u2014they see it as God\\'s Word.\",\\n    \"description\": \"<P>HERE ARE SOME OF THE WAYS THAT WE KNOW THAT THE TRANSLATED SCRIPTURE IS EASY FOR PEOPLE TO ACCEPT:</P><UL><LI>THE TRANSLATORS ARE RESPECTED BY PEOPLE IN OUR COMMUNITY. THEY ARE SEEN AS THE KIND OF PEOPLE WHO SHOULD BE INVOLVED WITH HANDLING SACRED TEXTS.</LI><LI>CHURCH LEADERS AND BELIEVERS IN OUR COMMUNITY APPROVE AND PROMOTE THE TRANSLATIONS BEING USED AND THEY SEE THE TRANSLATED SCRIPTURE AS AN ACCURATE VERSION OF THE ORIGINAL BIBLE BOOKS\\\\u2014IT TEACHES THEM GOD\\\\u2019S TRUTH.</LI><LI>THE LOCAL CHURCHES APPROVE THE STYLE OF THE TRANSLATION AS APPROPRIATE FOR A SACRED BOOK SUCH AS THE BIBLE. (EXAMPLES OF STYLE: A \\\\u2018FREE\\\\u2019 TRANSLATION VERSUS A \\\\u2018LITERAL\\\\u2019 TRANSLATION.)</LI><LI>CHURCH LEADERS APPROVE THE SPECIAL TERMS  USED IN THE BIBLE\\\\u2014SUCH AS SALVATION, GRACE, THE HOLY SPIRIT, ETC.</LI><LI>THE PEOPLE THINK THE PRESENTATION OF THE SCRIPTURE PRODUCTS\\\\u2014SUCH AS COVER, LAYOUT, FONT, PICTURES, READING STYLE, ETC.\\\\u2014IS FITTING FOR A HOLY BOOK.</LI></UL><H6>BASED ON OUR CONVERSATIONS, OUR COMMUNITY FEELS THIS CONDITION IS:</H6><P><STRONG>STRONG:</STRONG> THE LOCAL CHURCH IN OUR COMMUNITY CONSIDERS THE SCRIPTURE TRANSLATED AND FORMATTED IN A WAY THAT IS ACCEPTABLE IN OUR CULTURE.</P><P><STRONG>MEDIUM:</STRONG> PEOPLE HAVE SOME CONCERNS ABOUT THE SCRIPTURE PRODUCTS, BUT THEY DON\\\\u2019T SEE THEM AS MAJOR PROBLEMS.</P><P><STRONG>WEAK:</STRONG> MANY PEOPLE IN OUR COMMUNITY WILL NOT USE SCRIPTURE PRODUCTS BECAUSE OF THE WAY THINGS ARE TRANSLATED, OR BECAUSE OF ITS FORMAT IS NOT ACCEPTABLE.</P>\",\\n    \"picture\": {\\n      \"url\": \"explore/condition2.jpg\"\\n    },\\n    \"video\": {\\n      \"url\": \"condition/acceptable_translation.mp4\"\\n    },\\n    \"sort_index\": 0,\\n    \"category_id\": 30\\n  },\\n  {\\n    \"id\": 3,\\n    \"title\": \"MEDIA: ACCESSIBLE FORMATS\",\\n    \"code\": \"accessible_format\",\\n    \"status\": 1,\\n    \"tagline\": \"The Scripture products can be used by people in our community and are in formats that can be read, seen or heard depending on the needs.\",\\n    \"short_description\": \"The Scripture products can be used by people in our community and are in formats that can be read, seen or heard depending on the needs.\",\\n    \"description\": \"<P>IF SCRIPTURE IS MADE AVAILABLE IN FORMS OR ACTIVITIES THAT ARE FITTING FOR THE LANGUAGES A COMMUNITY USES, THERE IS A MUCH BETTER CHANGE THAT IT WILL CHANGE LIVES.</P><P>SCRIPTURE CAN BE MADE AVAILABLE IN THE FOLLOWING FORMS: </P><UL><LI>THROUGH SPOKEN WORD SUCH AS STORYTELLING, ORAL BIBLE TRANSLATION, AND DIFFERENT MEANS OF AUDIO MESSAGING.</LI><LI>THROUGH POPULAR MEDIA LIKE: TV, VCR, DVD, RADIO, INTERNET AND MOBILE PHONES.</LI><LI>SCRIPTURE PRODUCTS CAN BE RECORDED, STORED AND DISTRIBUTED ON CELL PHONES, MICRO SD CARDS, MP3 PLAYERS, CDS, CASSETTES, THE INTERNET, ETC.</LI><LI>THROUGH LOCAL (ETHNIC) ARTS FORMS LIKE DANCE, MUSIC, DRAMA, WEAVING, POETRY, CHANTING, DRAWING OR PAINTING, ETC. USING CULTURAL FORMS OF EXPRESSION CAN SPEAK DEEPLY TO A PERSON.</LI><LI>THROUGH PRINTED MATERIALS. IN THAT CASE LITERACY EDUCATION NEEDS TO BE IN PLACE OR NEEDS TO DEVELOPED IN OUR COMMUNITY.</LI></UL><H6>BASED ON OUR CONVERSATIONS, OUR COMMUNITY FEELS THIS CONDITION IS:</H6><P><STRONG>STRONG:</STRONG> OUR PEOPLE HAVE ACCESS TO THE SCRIPTURE THROUGH SEVERAL FITTING FORMATS.</P><P><STRONG>MEDIUM:</STRONG> THERE IS MORE THAN ONE FORMAT AVAILABLE BUT WE ARE NOT SURE WHETHER IT MEETS THE GREATEST NEEDS IN OUR COMMUNITY.</P><P><STRONG>WEAK:</STRONG> THE SPECIFIC NEEDS FOR FORMAT OR MEDIA IN LANGUAGES OF OUR COMMUNITY HAVE NOT BEEN TAKEN CARE OF.</P>\",\\n    \"picture\": {\\n      \"url\": \"explore/condition3.jpg\"\\n    },\\n    \"video\": {\\n      \"url\": \"condition/accessible_format.mp4\"\\n    },\\n    \"sort_index\": 0,\\n    \"category_id\": 27\\n  },\\n  {\\n    \"id\": 4,\\n    \"title\": \"BACKGROUND: UNDERSTANDING AND KNOWLEDGE \",\\n    \"code\": \"background_knowledge\",\\n    \"status\": 1,\\n    \"tagline\": \"People understand enough Biblical history, culture and theology to make sense of the Scriptures.\",\\n    \"short_description\": \"People understand enough Biblical history, culture and theology to make sense of the Scriptures.\",\\n    \"description\": \"<P>OUR COMMUNITY WILL NEED THE RESOURCES THAT WILL: </P><UL><LI>HELP PEOPLE UNDERSTAND THE HISTORICAL AND CULTURAL BACKGROUND OF SCRIPTURE.</LI><LI>HELP PEOPLE TO GET A BROAD OVERVIEW OF THE STORY OF SCRIPTURE SO THAT PEOPLE CAN UNDERSTAND THE HISTORICAL SETTING AND THE RELATIONSHIPS BETWEEN PEOPLE, EVENTS AND SCRIPTURE BOOKS.</LI><LI>PROVIDE A WAY TO TRAIN LOCAL CHURCH LEADERSHIP IN THE THREE ABOVE AREAS OF KNOWLEDGE.</LI><LI>HELP THEM TO BE ABLE TO TEACH THE NEEDED AREAS OF KNOWLEDGE AND OTHER BIBLE TOPICS.</LI></UL><H6>BASED ON OUR CONVERSATIONS, OUR COMMUNITY FEELS THIS CONDITION IS:</H6><P><STRONG>STRONG:</STRONG> PEOPLE HAVE GOOD BACKGROUND KNOWLEDGE TO HELP THEM UNDERSTAND THE SCRIPTURE WELL. </P><P><STRONG>MEDIUM:</STRONG> PEOPLE ARE OFTEN CONFUSED ABOUT THINGS IN SCRIPTURE, BECAUSE THEY DON\\\\u2019T FULLY UNDERSTAND THE SETTING OF THE STORIES AND TEACHINGS.</P><P><STRONG>WEAK:</STRONG> PEOPLE THINK THE SCRIPTURE IS A STRANGE BOOK AND THEY DON\\\\u2019T BELIEVE IT HELPS THEM IN THEIR DAILY LIFE.</P>\",\\n    \"picture\": {\\n      \"url\": \"explore/condition4.jpg\"\\n    },\\n    \"video\": {\\n      \"url\": \"condition/background_knowledge.mp4\"\\n    },\\n    \"sort_index\": 0,\\n    \"category_id\": 25\\n  },\\n  {\\n    \"id\": 5,\\n    \"title\": \"DISTRIBUTION: EASILY ACCESSIBLE\",\\n    \"code\": \"availability\",\\n    \"status\": 1,\\n    \"tagline\": \"Everyone who wants copies of Scripture materials in their various forms can obtain them without too much effort or cost.\",\\n    \"short_description\": \"Everyone who wants copies of Scripture materials in their various forms can obtain them without too much effort or cost. \",\\n    \"description\": \"<P>SCRIPTURE PRODUCTS  ARE EASILY ACCESSIBLE WHEN:</P><UL><LI>THERE ARE GOOD WAYS FOR DISTRIBUTION AND SALE OF SCRIPTURE PRODUCTS\\\\u2014IN WHATEVER FORM\\\\u2014FOR YEARS TO COME.</LI><LI>MISSIONARIES AND PASTORS KNOW AND COMMUNICATE WHAT LOCAL SCRIPTURE PRODUCTS ARE AVAILABLE IN THEIR REGION AND WHERE TO GET THEM.</LI><LI>MODERN TECHNOLOGY SUCH AS SMARTPHONES ARE USED TO MAKE SCRIPTURE AVAILABLE.</LI></UL><H6>BASED ON OUR CONVERSATIONS, OUR COMMUNITY FEELS THIS CONDITION IS:</H6><P><STRONG>STRONG:</STRONG> CHURCH LEADERS ARE COMMUNICATING WHERE TO GET SCRIPTURE PRODUCTS, AND ALL FORMS ARE AVAILABLE AND WE CAN EASILY GET TO THEM.</P><P><STRONG>MEDIUM:</STRONG> SOME PEOPLE KNOW HOW TO ACCESS SCRIPTURE PRODUCTS BUT NOT ALL FORMS ARE READILY AVAILABLE.</P><P><STRONG>WEAK:</STRONG> IT IS ACTUALLY  DIFFICULT FOR SOMEONE TO GET TO HOLD OF SCRIPTURE PRODUCTS IN OUR LANGUAGES.</P>\",\\n    \"picture\": {\\n      \"url\": \"explore/condition5.jpg\"\\n    },\\n    \"video\": {\\n      \"url\": \"condition/availability.mp4\"\\n    },\\n    \"sort_index\": 0,\\n    \"category_id\": 28\\n  },\\n  {\\n    \"id\": 6,\\n    \"title\": \"RELEVANCE: SPIRITUAL HUNGER\",\\n    \"code\": \"spiritual_hunger\",\\n    \"status\": 1,\\n    \"tagline\": \"People want to know God better and the Word of God meets their needs.\",\\n    \"short_description\": \"People want to know God better and the Word of God meets their needs.\",\\n    \"description\": \"<P>WE KNOW THAT THERE IS SPIRITUAL HUNGER WHEN PEOPLE TURN TO SCRIPTURE TO FIND ANSWERS TO THEIR QUESTIONS AND HELP IN THEIR STRUGGLES. SCRIPTURE PRODUCTS THAT SPEAK DIRECTLY TO THEIR QUESTIONS AND STRUGGLES WILL HELP PEOPLE SEE THE VALUE OF SCRIPTURE.</P><P>HERE ARE SOME WAYS TO START TO RECOGNIZE WHAT THOSE STRUGGLES ARE:</P><UL><LI>WHAT MORAL ISSUES ARE OF GREATEST CONCERN TO THE COMMUNITY? FOR EXAMPLE, WHAT THINGS ARE CAUSING PEOPLE TO FEEL GUILT OR SHAME?</LI><LI>WHAT SIGNIFICANT TRAUMA HAS HAPPENED THAT PEOPLE WANT TO BE HELPED WITH?</LI><LI>WHAT RITUALS ARE PRACTICED FOR LIFE OR DEATH, OR FOR AGRICULTURAL CYCLES? WHAT DOES THAT SHOW US ABOUT THEIR SPIRITUAL NEEDS, THEIR BELIEVES AND THEIR FEARS?</LI><LI>UNDERSTAND WHAT THE LOCAL VIEW OF THE SPIRITUAL WORLD IS AND, IN PARTICULAR, THE COMMUNITY\\'S UNDERSTANDING OF SPIRITS OR GODS.</LI><LI>ABOUT WHAT KINDS OF THINGS DO PEOPLE HAVE A GENERAL SENSE OF DISSATISFACTION WITH CURRENT (SPIRITUAL) SOLUTIONS FOR LIFE?</LI></UL><H6>BASED ON OUR CONVERSATIONS, OUR COMMUNITY FEELS THIS CONDITION IS:</H6><P><STRONG>STRONG:</STRONG> SCRIPTURE IS THE ACCEPTED PLACE TO FIND HELP WITH LIFE.</P><P><STRONG>MEDIUM:</STRONG> THERE IS SOME ACCEPTANCE THAT SCRIPTURE HAS ANSWERS\\\\u2014THERE IS SOME NEED FOR PRODUCTS THAT HELP PEOPLE APPLY SCRIPTURE.</P><P><STRONG>WEAK:</STRONG> SCRIPTURE IS NOT SEEN AS RELEVANT, SO WE NEED TO WORK ON DEVELOPING SCRIPTURE PRODUCTS THAT DO SPEAK TO REAL NEEDS PEOPLE HAVE.</P>\",\\n    \"picture\": {\\n      \"url\": \"explore/condition6.jpg\"\\n    },\\n    \"video\": {\\n      \"url\": \"condition/spiritual_hunger.mp4\"\\n    },\\n    \"sort_index\": 0,\\n    \"category_id\": 24\\n  },\\n  {\\n    \"id\": 7,\\n    \"title\": \"OPPOSITION: FREEDOM TO COMMIT\",\\n    \"code\": \"freedom\",\\n    \"status\": 1,\\n    \"tagline\": \"People are free to follow Christ wholeheartedly, including turning from traditional religious practices.\",\\n    \"short_description\": \"People are free to follow Christ wholeheartedly, including turning from traditional religious practices. \",\\n    \"description\": \"<P>HERE ARE SOME OF THE THINGS WHICH MAY HINDER PEOPLE TO COMMIT TO THE CHRISTIAN FAITH:</P><UL><LI>THEY ARE EXPECTED TO PRESERVE FAMILY UNITY.</LI><LI>THERE ARE LEGAL RULES AGAINST CHRISTIANITY OR RULES AGAINST A PERSON CHANGING RELIGION.</LI><LI>PEOPLE ARE AFRAID OF LOSING RELATIONSHIPS WITHIN THEIR FAMILY OR COMMUNITY.</LI><LI>THEY HAVE DIFFICULTY CHANGING DEEPLY HELD BELIEFS. THEY FEAR SPIRITUAL AND PHYSICAL CONSEQUENCES IF THEY LEAVE THEIR TRADITIONAL RELIGION. THIS IS OFTEN TIED TO THE BELIEF THAT THE LOCAL RELIGION OFFERS PROTECTION FROM EVIL BEINGS, PEOPLE AND ACTIVITIES. </LI><LI>THERE IS STRONG SPIRITUAL OPPOSITION. THE ENEMY SEEKS TO HINDER ENGAGEMENT WITH SCRIPTURES IN MEANINGFUL AND LIFE-CHANGING WAYS.</LI><LI>AT THE MOST IT IS ACCEPTABLE TO BE A NOMINAL CHRISTIAN BUT CHRISTIAN GROWTH IS NOT ENCOURAGED. CHRISTIAN ACTIVITY IS VIEWED AS A LIFELESS RITUAL, AND LEARNING FROM THE BIBLE IS DISCOURAGED.</LI></UL><H6>BASED ON OUR CONVERSATIONS, OUR COMMUNITY FEELS THIS CONDITION IS:</H6><P><STRONG>STRONG:</STRONG> THERE ARE FEW OBSTACLES TO PEOPLE IN OUR COMMUNITY TO FOLLOW CHRIST.</P><P><STRONG>MEDIUM:</STRONG> THERE ARE SOME OBSTACLES, BUT CHRISTIANITY IS SOMEWHAT TOLERATED.</P><P><STRONG>WEAK:</STRONG> THERE ARE MAJOR OBSTACLES TO BECOMING OR BEING A CHRISTIAN IN OUR COMMUNITY.</P>\",\\n    \"picture\": {\\n      \"url\": \"explore/condition7.jpg\"\\n    },\\n    \"video\": {\\n      \"url\": \"condition/freedom.mp4\"\\n    },\\n    \"sort_index\": 0,\\n    \"category_id\": 23\\n  },\\n  {\\n    \"id\": 8,\\n    \"title\": \"PARTNERSHIP: COMMUNITY INVOLVEMENT\",\\n    \"code\": \"partnership\",\\n    \"status\": 1,\\n    \"tagline\": \"Local church leaders and organizations active within the community use and promote Scripture and related materials in different forms and formats.\",\\n    \"short_description\": \"Local church leaders and organizations active within the community use and promote Scripture and related materials in different forms and formats.\",\\n    \"description\": \"<P>THESE ARE GOOD SIGNS THAT PARTNERSHIP IS HELPING TO ENHANCE THE USE OF THE SCRIPTURES:</P><UL><LI>THE LOCAL CHURCH CONSIDERS ITSELF THE OWNER OF THE PROCESS OF TRANSLATING THE SCRIPTURE AND THE RESULTING SCRIPTURE.</LI><LI>LOCAL CHURCH LEADERSHIP VIEWS LOCAL LANGUAGE BIBLE TRANSLATION PROJECTS AND NEW SCRIPTURE PRODUCTS AS PART OF THEIR OWN MINISTRIES.</LI><LI>LOCAL LANGUAGE SCRIPTURE TRANSLATIONS ARE VIEWED AS BELONGING TO ALL CHURCHES AND NOT JUST TO ONE DENOMINATION OR ORGANIZATION.</LI><LI>THE COMMUNITY FEELS COMFORTABLE TO LEAD, MAKE DECISIONS AND PLAN IN WAYS THAT FIT THEIR CULTURE.</LI></UL><H6>BASED ON OUR CONVERSATIONS, OUR COMMUNITY FEELS THIS CONDITION IS:</H6><P><STRONG>STRONG:</STRONG> THE LOCAL CHURCH AND ITS LEADERSHIP SUPPORT THE USE OF SCRIPTURE IN THE LOCAL LANGUAGES.</P><P><STRONG>MEDIUM:</STRONG> THERE IS AWARENESS OF THE NEED BUT THE CHURCH DOES NOT PROMOTE SCRIPTURE IN OUR LOCAL LANGUAGES.</P><P><STRONG>WEAK:</STRONG> THE CHURCH AND ITS LEADERS DO NOT SEE THE NEED FOR SCRIPTURE IN LOCAL LANGUAGES. THE LOCAL DENOMINATIONS AND CHRISTIAN ORGANIZATIONS ARE NOT UNITED IN PROMOTING THE TRANSLATION OR THE USE OF SCRIPTURE IN THE LOCAL LANGUAGES.</P>\",\\n    \"picture\": {\\n      \"url\": \"explore/condition8.jpg\"\\n    },\\n    \"video\": {\\n      \"url\": \"condition/partnership.mp4\"\\n    },\\n    \"sort_index\": 0,\\n    \"category_id\": 26\\n  }\\n]'"
      ]
     },
     "execution_count": 15,
     "metadata": {},
     "output_type": "execute_result"
    }
   ],
   "source": [
    "json.dumps(translate_json(parsed_text, [\"title\", \"que\", \"ans\", \"verse\", \"alertVerify\", \"description\", \"noteMsg\", \"popupText\",\"subTitle\", \"method2title\"]), indent=2)"
   ]
  },
  {
   "cell_type": "code",
   "execution_count": null,
   "metadata": {},
   "outputs": [],
   "source": []
  },
  {
   "cell_type": "code",
   "execution_count": null,
   "metadata": {},
   "outputs": [],
   "source": []
  }
 ],
 "metadata": {
  "kernelspec": {
   "display_name": "Python 3",
   "language": "python",
   "name": "python3"
  },
  "language_info": {
   "codemirror_mode": {
    "name": "ipython",
    "version": 3
   },
   "file_extension": ".py",
   "mimetype": "text/x-python",
   "name": "python",
   "nbconvert_exporter": "python",
   "pygments_lexer": "ipython3",
   "version": "3.8.1"
  }
 },
 "nbformat": 4,
 "nbformat_minor": 4
}
